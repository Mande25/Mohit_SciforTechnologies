{
 "cells": [
  {
   "cell_type": "markdown",
   "metadata": {},
   "source": [
    "Q6. Write a python program to find palindromes in the given list of strings using lambda and\n",
    "filter function.\n",
    "\n",
    "['python', 'php', 'aba', 'radar', 'level']"
   ]
  },
  {
   "cell_type": "code",
   "execution_count": 1,
   "metadata": {},
   "outputs": [
    {
     "name": "stdout",
     "output_type": "stream",
     "text": [
      "Palindromes: ['php', 'aba', 'radar', 'level']\n"
     ]
    }
   ],
   "source": [
    "# Given list of strings\n",
    "str_list = ['python', 'php', 'aba', 'radar', 'level']\n",
    "\n",
    "# Use filter and lambda to find palindromes\n",
    "palindrome = list(filter(lambda s: s == s[::-1], str_list))\n",
    "\n",
    "# Print the palindromes\n",
    "print(\"Palindromes:\", palindrome)\n"
   ]
  },
  {
   "cell_type": "code",
   "execution_count": null,
   "metadata": {},
   "outputs": [],
   "source": []
  }
 ],
 "metadata": {
  "kernelspec": {
   "display_name": "Python 3",
   "language": "python",
   "name": "python3"
  },
  "language_info": {
   "codemirror_mode": {
    "name": "ipython",
    "version": 3
   },
   "file_extension": ".py",
   "mimetype": "text/x-python",
   "name": "python",
   "nbconvert_exporter": "python",
   "pygments_lexer": "ipython3",
   "version": "3.8.10"
  }
 },
 "nbformat": 4,
 "nbformat_minor": 2
}
