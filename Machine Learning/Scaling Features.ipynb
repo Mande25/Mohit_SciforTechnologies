{
 "cells": [
  {
   "cell_type": "code",
   "execution_count": 1,
   "metadata": {},
   "outputs": [
    {
     "name": "stdout",
     "output_type": "stream",
     "text": [
      "     X    Y\n",
      "0   52  108\n",
      "1   93   91\n",
      "2   15  141\n",
      "3   72  109\n",
      "4   61  129\n",
      "5   21   64\n",
      "6   83  111\n",
      "7   87  111\n",
      "8   75   96\n",
      "9   75  111\n",
      "10  88  100\n",
      "11  24  104\n",
      "12   3  113\n",
      "13  22   52\n",
      "14  53  100\n",
      "15   2   56\n",
      "16  88   70\n",
      "17  30  122\n",
      "18  38   88\n",
      "19   2   67\n",
      "20  64   53\n",
      "21  60  138\n",
      "22  21  109\n",
      "23  33   63\n",
      "24  76   58\n",
      "25  58  139\n",
      "26  22  102\n",
      "27  89   51\n",
      "28  49  133\n",
      "29  91  141\n"
     ]
    }
   ],
   "source": [
    "import numpy as np\n",
    "import pandas as pd\n",
    "\n",
    "\n",
    "np.random.seed(42)\n",
    "\n",
    "feature1 = np.random.randint(1, 100, 30)\n",
    "feature2 = np.random.randint(50, 150, 30)\n",
    "\n",
    "\n",
    "df = pd.DataFrame({'X': feature1, 'Y': feature2})\n",
    "\n",
    "\n",
    "print(df)\n"
   ]
  },
  {
   "cell_type": "code",
   "execution_count": 2,
   "metadata": {},
   "outputs": [
    {
     "data": {
      "text/plain": [
       "(30, 2)"
      ]
     },
     "execution_count": 2,
     "metadata": {},
     "output_type": "execute_result"
    }
   ],
   "source": [
    "df.shape"
   ]
  },
  {
   "cell_type": "code",
   "execution_count": 3,
   "metadata": {},
   "outputs": [],
   "source": [
    "from sklearn.preprocessing import StandardScaler\n",
    "\n"
   ]
  },
  {
   "cell_type": "code",
   "execution_count": 4,
   "metadata": {},
   "outputs": [],
   "source": [
    "scaler = StandardScaler()\n",
    "scaled_data = scaler.fit_transform(df)\n",
    "\n",
    "\n"
   ]
  },
  {
   "cell_type": "code",
   "execution_count": 5,
   "metadata": {},
   "outputs": [
    {
     "name": "stdout",
     "output_type": "stream",
     "text": [
      "[[ 0.0147113   0.35892999]\n",
      " [ 1.40662619 -0.23156773]\n",
      " [-1.24140703  1.50519028]\n",
      " [ 0.69369417  0.39366515]\n",
      " [ 0.32025359  1.08836835]\n",
      " [-1.03771216 -1.16941706]\n",
      " [ 1.06713476  0.46313547]\n",
      " [ 1.20293133  0.46313547]\n",
      " [ 0.7955416  -0.05789193]\n",
      " [ 0.7955416   0.46313547]\n",
      " [ 1.23688048  0.08104871]\n",
      " [-0.93586473  0.21998935]\n",
      " [-1.64879675  0.53260579]\n",
      " [-1.00376302 -1.58623898]\n",
      " [ 0.04866044  0.08104871]\n",
      " [-1.6827459  -1.44729834]\n",
      " [ 1.23688048 -0.9610061 ]\n",
      " [-0.73216987  0.84522223]\n",
      " [-0.46057672 -0.33577322]\n",
      " [-1.6827459  -1.06521158]\n",
      " [ 0.42210102 -1.55150382]\n",
      " [ 0.28630445  1.4009848 ]\n",
      " [-1.03771216  0.39366515]\n",
      " [-0.63032244 -1.20415222]\n",
      " [ 0.82949075 -1.37782802]\n",
      " [ 0.21840616  1.43571996]\n",
      " [-1.00376302  0.15051903]\n",
      " [ 1.27082962 -1.62097414]\n",
      " [-0.08713614  1.22730899]\n",
      " [ 1.33872791  1.50519028]]\n"
     ]
    }
   ],
   "source": [
    "print(scaled_data)"
   ]
  },
  {
   "cell_type": "code",
   "execution_count": 6,
   "metadata": {},
   "outputs": [],
   "source": [
    "from sklearn.preprocessing import MinMaxScaler\n",
    "scaler = MinMaxScaler()\n",
    "scaled_data1 = scaler.fit_transform(df)"
   ]
  },
  {
   "cell_type": "code",
   "execution_count": 7,
   "metadata": {},
   "outputs": [
    {
     "name": "stdout",
     "output_type": "stream",
     "text": [
      "[[0.54945055 0.63333333]\n",
      " [1.         0.44444444]\n",
      " [0.14285714 1.        ]\n",
      " [0.76923077 0.64444444]\n",
      " [0.64835165 0.86666667]\n",
      " [0.20879121 0.14444444]\n",
      " [0.89010989 0.66666667]\n",
      " [0.93406593 0.66666667]\n",
      " [0.8021978  0.5       ]\n",
      " [0.8021978  0.66666667]\n",
      " [0.94505495 0.54444444]\n",
      " [0.24175824 0.58888889]\n",
      " [0.01098901 0.68888889]\n",
      " [0.21978022 0.01111111]\n",
      " [0.56043956 0.54444444]\n",
      " [0.         0.05555556]\n",
      " [0.94505495 0.21111111]\n",
      " [0.30769231 0.78888889]\n",
      " [0.3956044  0.41111111]\n",
      " [0.         0.17777778]\n",
      " [0.68131868 0.02222222]\n",
      " [0.63736264 0.96666667]\n",
      " [0.20879121 0.64444444]\n",
      " [0.34065934 0.13333333]\n",
      " [0.81318681 0.07777778]\n",
      " [0.61538462 0.97777778]\n",
      " [0.21978022 0.56666667]\n",
      " [0.95604396 0.        ]\n",
      " [0.51648352 0.91111111]\n",
      " [0.97802198 1.        ]]\n"
     ]
    }
   ],
   "source": [
    "print(scaled_data1)"
   ]
  },
  {
   "cell_type": "code",
   "execution_count": null,
   "metadata": {},
   "outputs": [],
   "source": []
  }
 ],
 "metadata": {
  "kernelspec": {
   "display_name": "Python 3",
   "language": "python",
   "name": "python3"
  },
  "language_info": {
   "codemirror_mode": {
    "name": "ipython",
    "version": 3
   },
   "file_extension": ".py",
   "mimetype": "text/x-python",
   "name": "python",
   "nbconvert_exporter": "python",
   "pygments_lexer": "ipython3",
   "version": "3.8.10"
  }
 },
 "nbformat": 4,
 "nbformat_minor": 2
}
