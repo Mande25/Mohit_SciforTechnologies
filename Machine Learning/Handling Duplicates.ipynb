{
 "cells": [
  {
   "cell_type": "code",
   "execution_count": 4,
   "metadata": {},
   "outputs": [
    {
     "name": "stdout",
     "output_type": "stream",
     "text": [
      "       Name  Age           City\n",
      "0     Alice   25       New York\n",
      "1       Bob   30    Los Angeles\n",
      "2   Charlie   22        Chicago\n",
      "3     Alice   25       New York\n",
      "4     David   35  San Francisco\n",
      "5     Alice   25       New York\n",
      "6       Bob   30    Los Angeles\n",
      "7       Eva   28  San Francisco\n",
      "8     Frank   40        Chicago\n",
      "9     Grace   35       New York\n",
      "10    Harry   22    Los Angeles\n",
      "11      Ivy   33        Chicago\n",
      "12     Jack   27  San Francisco\n",
      "13    Alice   25       New York\n",
      "14      Bob   30    Los Angeles\n",
      "15  Charlie   22        Chicago\n",
      "16    Alice   25       New York\n",
      "17    David   35  San Francisco\n",
      "18    Alice   25       New York\n",
      "19      Bob   30    Los Angeles\n"
     ]
    }
   ],
   "source": [
    "import pandas as pd\n",
    "\n",
    "#  dummy dataset with 20 rows and 3 columns\n",
    "data5 = {\n",
    "    'Name': ['Alice', 'Bob', 'Charlie', 'Alice', 'David', 'Alice', 'Bob', 'Eva', 'Frank', 'Grace', 'Harry', 'Ivy', 'Jack', 'Alice', 'Bob', 'Charlie', 'Alice', 'David', 'Alice', 'Bob'],\n",
    "    'Age': [25, 30, 22, 25, 35, 25, 30, 28, 40, 35, 22, 33, 27, 25, 30, 22, 25, 35, 25, 30],\n",
    "    'City': ['New York', 'Los Angeles', 'Chicago', 'New York', 'San Francisco', 'New York', 'Los Angeles', 'San Francisco', 'Chicago', 'New York', 'Los Angeles', 'Chicago', 'San Francisco', 'New York', 'Los Angeles', 'Chicago', 'New York', 'San Francisco', 'New York', 'Los Angeles'],\n",
    "}\n",
    "\n",
    "df5 = pd.DataFrame(data5)\n",
    "\n",
    "print(df5)\n"
   ]
  },
  {
   "cell_type": "code",
   "execution_count": 5,
   "metadata": {},
   "outputs": [
    {
     "name": "stdout",
     "output_type": "stream",
     "text": [
      "       Name  Age           City  DuplicatedName\n",
      "0     Alice   25       New York           False\n",
      "1       Bob   30    Los Angeles           False\n",
      "2   Charlie   22        Chicago           False\n",
      "3     Alice   25       New York            True\n",
      "4     David   35  San Francisco           False\n",
      "5     Alice   25       New York            True\n",
      "6       Bob   30    Los Angeles            True\n",
      "7       Eva   28  San Francisco           False\n",
      "8     Frank   40        Chicago           False\n",
      "9     Grace   35       New York           False\n",
      "10    Harry   22    Los Angeles           False\n",
      "11      Ivy   33        Chicago           False\n",
      "12     Jack   27  San Francisco           False\n",
      "13    Alice   25       New York            True\n",
      "14      Bob   30    Los Angeles            True\n",
      "15  Charlie   22        Chicago            True\n",
      "16    Alice   25       New York            True\n",
      "17    David   35  San Francisco            True\n",
      "18    Alice   25       New York            True\n",
      "19      Bob   30    Los Angeles            True\n"
     ]
    }
   ],
   "source": [
    "\n",
    "duplicates_name = df5.duplicated(subset=['Name'])\n",
    "\n",
    "df5['DuplicatedName'] = duplicates_name\n",
    "\n",
    "\n",
    "print(df5)"
   ]
  },
  {
   "cell_type": "code",
   "execution_count": 8,
   "metadata": {},
   "outputs": [
    {
     "name": "stdout",
     "output_type": "stream",
     "text": [
      "       Name  Age           City  DuplicatedName\n",
      "0     Alice   25       New York           False\n",
      "1       Bob   30    Los Angeles           False\n",
      "2   Charlie   22        Chicago           False\n",
      "4     David   35  San Francisco           False\n",
      "7       Eva   28  San Francisco           False\n",
      "8     Frank   40        Chicago           False\n",
      "9     Grace   35       New York           False\n",
      "10    Harry   22    Los Angeles           False\n",
      "11      Ivy   33        Chicago           False\n",
      "12     Jack   27  San Francisco           False\n"
     ]
    }
   ],
   "source": [
    "\n",
    "df5_no_duplicates = df5.drop_duplicates(subset=['Name'])\n",
    "\n",
    "print(df5_no_duplicates)"
   ]
  },
  {
   "cell_type": "code",
   "execution_count": null,
   "metadata": {},
   "outputs": [],
   "source": []
  }
 ],
 "metadata": {
  "kernelspec": {
   "display_name": "Python 3",
   "language": "python",
   "name": "python3"
  },
  "language_info": {
   "codemirror_mode": {
    "name": "ipython",
    "version": 3
   },
   "file_extension": ".py",
   "mimetype": "text/x-python",
   "name": "python",
   "nbconvert_exporter": "python",
   "pygments_lexer": "ipython3",
   "version": "3.8.10"
  }
 },
 "nbformat": 4,
 "nbformat_minor": 2
}
